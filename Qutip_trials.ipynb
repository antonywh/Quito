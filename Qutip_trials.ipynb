{
 "cells": [
  {
   "cell_type": "code",
   "execution_count": 1,
   "metadata": {},
   "outputs": [
    {
     "name": "stdout",
     "output_type": "stream",
     "text": [
      "Requirement already satisfied: qutip in c:\\users\\qcrew\\anaconda3\\lib\\site-packages (4.5.0)\n",
      "Requirement already satisfied: numpy>=1.12 in c:\\users\\qcrew\\anaconda3\\lib\\site-packages (from qutip) (1.18.1)\n",
      "Requirement already satisfied: scipy>=1.0 in c:\\users\\qcrew\\anaconda3\\lib\\site-packages (from qutip) (1.4.1)\n",
      "Requirement already satisfied: cython>=0.21 in c:\\users\\qcrew\\anaconda3\\lib\\site-packages (from qutip) (0.29.15)\n",
      "Note: you may need to restart the kernel to use updated packages.\n"
     ]
    }
   ],
   "source": [
    "pip install qutip"
   ]
  },
  {
   "cell_type": "code",
   "execution_count": 7,
   "metadata": {},
   "outputs": [],
   "source": [
    "# Import all required packages\n",
    "\n",
    "from qutip import *\n",
    "import matplotlib.pyplot as plt\n",
    "import numpy as np\n",
    "from IPython.display import Image #To show Image"
   ]
  },
  {
   "cell_type": "code",
   "execution_count": 8,
   "metadata": {},
   "outputs": [
    {
     "data": {
      "text/latex": [
       "Quantum object: dims = [[2, 2], [2, 2]], shape = (4, 4), type = oper, isherm = True\\begin{equation*}\\left(\\begin{array}{*{11}c}0.0 & 1.0 & 0.0 & 0.0\\\\1.0 & 0.0 & 0.0 & 0.0\\\\0.0 & 0.0 & 0.0 & -1.0\\\\0.0 & 0.0 & -1.0 & 0.0\\\\\\end{array}\\right)\\end{equation*}"
      ],
      "text/plain": [
       "Quantum object: dims = [[2, 2], [2, 2]], shape = (4, 4), type = oper, isherm = True\n",
       "Qobj data =\n",
       "[[ 0.  1.  0.  0.]\n",
       " [ 1.  0.  0.  0.]\n",
       " [ 0.  0.  0. -1.]\n",
       " [ 0.  0. -1.  0.]]"
      ]
     },
     "execution_count": 8,
     "metadata": {},
     "output_type": "execute_result"
    }
   ],
   "source": [
    "# Calculating the tensor product between matrices\n",
    "\n",
    "# 1. Initialize the matrices\n",
    "\n",
    "X = sigmax()\n",
    "Z = sigmaz()\n",
    "\n",
    "ZX = tensor(Z, X)\n",
    "\n",
    "ZX"
   ]
  },
  {
   "cell_type": "code",
   "execution_count": 4,
   "metadata": {},
   "outputs": [
    {
     "data": {
      "text/latex": [
       "Quantum object: dims = [[2, 2], [1, 1]], shape = (4, 1), type = ket\\begin{equation*}\\left(\\begin{array}{*{11}c}0.707\\\\0.0\\\\0.0\\\\-0.707\\\\\\end{array}\\right)\\end{equation*}"
      ],
      "text/plain": [
       "Quantum object: dims = [[2, 2], [1, 1]], shape = (4, 1), type = ket\n",
       "Qobj data =\n",
       "[[ 0.70710678]\n",
       " [ 0.        ]\n",
       " [ 0.        ]\n",
       " [-0.70710678]]"
      ]
     },
     "execution_count": 4,
     "metadata": {},
     "output_type": "execute_result"
    }
   ],
   "source": [
    "N = 2\n",
    "# the unit method is useful to normalize states\n",
    "superposition = (fock(N,0)+fock(N,1)).unit()\n",
    "entangled_state = bell_state('01')\n",
    "\n",
    "# superposition\n",
    "entangled_state"
   ]
  },
  {
   "cell_type": "code",
   "execution_count": 5,
   "metadata": {},
   "outputs": [],
   "source": [
    "?bell_state"
   ]
  },
  {
   "cell_type": "code",
   "execution_count": 17,
   "metadata": {},
   "outputs": [
    {
     "data": {
      "text/latex": [
       "Quantum object: dims = [[2, 2], [1, 1]], shape = (4, 1), type = ket\\begin{equation*}\\left(\\begin{array}{*{11}c}1.0\\\\0.0\\\\0.0\\\\0.0\\\\\\end{array}\\right)\\end{equation*}"
      ],
      "text/plain": [
       "Quantum object: dims = [[2, 2], [1, 1]], shape = (4, 1), type = ket\n",
       "Qobj data =\n",
       "[[1.]\n",
       " [0.]\n",
       " [0.]\n",
       " [0.]]"
      ]
     },
     "execution_count": 17,
     "metadata": {},
     "output_type": "execute_result"
    }
   ],
   "source": [
    "#Define my input states\n",
    "N=2\n",
    "psi_1 = fock(N,0)\n",
    "psi_2 = fock(N,0)\n",
    "\n",
    "init = tensor(psi_1,psi_2)\n",
    "\n",
    "init"
   ]
  },
  {
   "cell_type": "code",
   "execution_count": 55,
   "metadata": {},
   "outputs": [
    {
     "data": {
      "text/latex": [
       "Quantum object: dims = [[2, 2], [2, 2]], shape = (4, 4), type = oper, isherm = False\\begin{equation*}\\left(\\begin{array}{*{11}c}0.500 & 0.500j & 0.500j & -0.500\\\\0.500j & 0.500 & -0.500 & 0.500j\\\\0.500j & -0.500 & 0.500 & 0.500j\\\\-0.500 & 0.500j & 0.500j & 0.500\\\\\\end{array}\\right)\\end{equation*}"
      ],
      "text/plain": [
       "Quantum object: dims = [[2, 2], [2, 2]], shape = (4, 4), type = oper, isherm = False\n",
       "Qobj data =\n",
       "[[ 0.5+0.j   0. +0.5j  0. +0.5j -0.5+0.j ]\n",
       " [ 0. +0.5j  0.5+0.j  -0.5+0.j   0. +0.5j]\n",
       " [ 0. +0.5j -0.5+0.j   0.5+0.j   0. +0.5j]\n",
       " [-0.5+0.j   0. +0.5j  0. +0.5j  0.5+0.j ]]"
      ]
     },
     "execution_count": 55,
     "metadata": {},
     "output_type": "execute_result"
    }
   ],
   "source": [
    "#Define the PBS operator\n",
    "pbs = (1/(2**0.5))*Qobj([[1,1j],[1j,1]])\n",
    "\n",
    "pbs_f = tensor(pbs,pbs)\n",
    "\n",
    "pbs_f"
   ]
  },
  {
   "cell_type": "code",
   "execution_count": 56,
   "metadata": {},
   "outputs": [
    {
     "data": {
      "text/latex": [
       "Quantum object: dims = [[2, 2], [1, 1]], shape = (4, 1), type = ket\\begin{equation*}\\left(\\begin{array}{*{11}c}0.500\\\\0.500j\\\\0.500j\\\\-0.500\\\\\\end{array}\\right)\\end{equation*}"
      ],
      "text/plain": [
       "Quantum object: dims = [[2, 2], [1, 1]], shape = (4, 1), type = ket\n",
       "Qobj data =\n",
       "[[ 0.5+0.j ]\n",
       " [ 0. +0.5j]\n",
       " [ 0. +0.5j]\n",
       " [-0.5+0.j ]]"
      ]
     },
     "execution_count": 56,
     "metadata": {},
     "output_type": "execute_result"
    }
   ],
   "source": [
    "pbs_f*init"
   ]
  },
  {
   "cell_type": "code",
   "execution_count": 60,
   "metadata": {},
   "outputs": [
    {
     "data": {
      "image/png": "[encoded data removed]",
      "text/plain": [
       "<Figure size 864x216 with 4 Axes>"
      ]
     },
     "metadata": {
      "needs_background": "light"
     },
     "output_type": "display_data"
    }
   ],
   "source": [
    "# Plot the Wigner function for a fock vacuum state\n",
    "\n",
    "# Initialize the states\n",
    "N = 25 # Levels in the Hilbert space\n",
    "\n",
    "coherent_vac = pbs_f*init\n",
    "n_3 = fock(N,3)\n",
    "coherent_n_3 = coherent(N,np.sqrt(3))\n",
    "\n",
    "# Initalize plot variables\n",
    "xvec = np.linspace(-5,5,200)\n",
    "yvec = xvec\n",
    "\n",
    "# Calculate the wigner function for the states\n",
    "W_coherent_vac = wigner(coherent_vac, xvec, yvec)\n",
    "W_n_3 = wigner(n_3, xvec, yvec)\n",
    "W_coherent_n_3 = wigner(coherent_n_3, xvec, yvec)\n",
    "\n",
    "# create a plot for 3 figures\n",
    "fig, axes = plt.subplots(1, 3, figsize=(12,3))\n",
    "\n",
    "# create contour plots using the results of the wigner func\n",
    "# The colour distribution varies from that in the lecture notes as it is not normalized to -1 to 1\n",
    "cont0 = axes[0].contourf(xvec, xvec, W_coherent_vac, 100, cmap = 'seismic')\n",
    "# cont1 = axes[1].contourf(xvec, xvec, W_n_3, 100, cmap = 'seismic')\n",
    "# cont2 = axes[2].contourf(xvec, xvec, W_coherent_n_3, 100, cmap = 'seismic')\n",
    "\n",
    "# add colorbar\n",
    "cb0 = fig.colorbar(cont0,ax = axes[0])\n",
    "# cb1 = fig.colorbar(cont1,ax = axes[1])\n",
    "# cb2 = fig.colorbar(cont2,ax = axes[2])\n",
    "\n",
    "# set the title for each plot\n",
    "lbl0 = axes[0].set_title(\"Coherent vacuum state\")\n",
    "# lbl1 = axes[1].set_title(\"3 Photon Fock State\")\n",
    "# lbl2 = axes[2].set_title(\"n average = 3 Coherent State\")"
   ]
  },
  {
   "cell_type": "code",
   "execution_count": null,
   "metadata": {},
   "outputs": [],
   "source": []
  }
 ],
 "metadata": {
  "kernelspec": {
   "display_name": "Python 3",
   "language": "python",
   "name": "python3"
  },
  "language_info": {
   "codemirror_mode": {
    "name": "ipython",
    "version": 3
   },
   "file_extension": ".py",
   "mimetype": "text/x-python",
   "name": "python",
   "nbconvert_exporter": "python",
   "pygments_lexer": "ipython3",
   "version": "3.7.6"
  }
 },
 "nbformat": 4,
 "nbformat_minor": 4
}
