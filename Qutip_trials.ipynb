{
 "cells": [
  {
   "cell_type": "code",
   "execution_count": 1,
   "metadata": {},
   "outputs": [
    {
     "name": "stdout",
     "output_type": "stream",
     "text": [
      "Requirement already satisfied: qutip in c:\\users\\qcrew\\anaconda3\\lib\\site-packages (4.5.0)\n",
      "Requirement already satisfied: numpy>=1.12 in c:\\users\\qcrew\\anaconda3\\lib\\site-packages (from qutip) (1.18.1)\n",
      "Requirement already satisfied: scipy>=1.0 in c:\\users\\qcrew\\anaconda3\\lib\\site-packages (from qutip) (1.4.1)\n",
      "Requirement already satisfied: cython>=0.21 in c:\\users\\qcrew\\anaconda3\\lib\\site-packages (from qutip) (0.29.15)\n",
      "Note: you may need to restart the kernel to use updated packages.\n"
     ]
    }
   ],
   "source": [
    "# pip install qutip"
   ]
  },
  {
   "cell_type": "code",
   "execution_count": 2,
   "metadata": {},
   "outputs": [],
   "source": [
    "# Import all required packages\n",
    "\n",
    "from qutip import *\n",
    "import matplotlib.pyplot as plt\n",
    "import numpy as np\n",
    "from IPython.display import Image #To show Image"
   ]
  },
  {
   "cell_type": "code",
   "execution_count": 3,
   "metadata": {},
   "outputs": [
    {
     "data": {
      "text/latex": [
       "Quantum object: dims = [[2, 2], [2, 2]], shape = (4, 4), type = oper, isherm = True\\begin{equation*}\\left(\\begin{array}{*{11}c}0.0 & 1.0 & 0.0 & 0.0\\\\1.0 & 0.0 & 0.0 & 0.0\\\\0.0 & 0.0 & 0.0 & -1.0\\\\0.0 & 0.0 & -1.0 & 0.0\\\\\\end{array}\\right)\\end{equation*}"
      ],
      "text/plain": [
       "Quantum object: dims = [[2, 2], [2, 2]], shape = (4, 4), type = oper, isherm = True\n",
       "Qobj data =\n",
       "[[ 0.  1.  0.  0.]\n",
       " [ 1.  0.  0.  0.]\n",
       " [ 0.  0.  0. -1.]\n",
       " [ 0.  0. -1.  0.]]"
      ]
     },
     "execution_count": 3,
     "metadata": {},
     "output_type": "execute_result"
    }
   ],
   "source": [
    "# Calculating the tensor product between matrices\n",
    "\n",
    "# 1. Initialize the matrices\n",
    "\n",
    "X = sigmax()\n",
    "Z = sigmaz()\n",
    "\n",
    "ZX = tensor(Z, X)\n",
    "\n",
    "ZX"
   ]
  },
  {
   "cell_type": "code",
   "execution_count": 4,
   "metadata": {},
   "outputs": [
    {
     "data": {
      "text/latex": [
       "Quantum object: dims = [[2, 2], [1, 1]], shape = (4, 1), type = ket\\begin{equation*}\\left(\\begin{array}{*{11}c}0.707\\\\0.0\\\\0.0\\\\-0.707\\\\\\end{array}\\right)\\end{equation*}"
      ],
      "text/plain": [
       "Quantum object: dims = [[2, 2], [1, 1]], shape = (4, 1), type = ket\n",
       "Qobj data =\n",
       "[[ 0.70710678]\n",
       " [ 0.        ]\n",
       " [ 0.        ]\n",
       " [-0.70710678]]"
      ]
     },
     "execution_count": 4,
     "metadata": {},
     "output_type": "execute_result"
    }
   ],
   "source": [
    "N = 2\n",
    "# the unit method is useful to normalize states\n",
    "superposition = (fock(N,0)+fock(N,1)).unit()\n",
    "entangled_state = bell_state('01')\n",
    "\n",
    "# superposition\n",
    "entangled_state"
   ]
  },
  {
   "cell_type": "code",
   "execution_count": 5,
   "metadata": {},
   "outputs": [],
   "source": [
    "?destroy"
   ]
  },
  {
   "cell_type": "code",
   "execution_count": 6,
   "metadata": {},
   "outputs": [],
   "source": [
    "def commutator(op1, op2):\n",
    "    return op1 * op2 - op2 * op1"
   ]
  },
  {
   "cell_type": "code",
   "execution_count": 18,
   "metadata": {},
   "outputs": [
    {
     "data": {
      "text/latex": [
       "Quantum object: dims = [[2], [1]], shape = (2, 1), type = ket\\begin{equation*}\\left(\\begin{array}{*{11}c}0.0\\\\1.0\\\\\\end{array}\\right)\\end{equation*}"
      ],
      "text/plain": [
       "Quantum object: dims = [[2], [1]], shape = (2, 1), type = ket\n",
       "Qobj data =\n",
       "[[0.]\n",
       " [1.]]"
      ]
     },
     "execution_count": 18,
     "metadata": {},
     "output_type": "execute_result"
    }
   ],
   "source": [
    "#Input photons\n",
    "N=2\n",
    "\n",
    "psi1 = fock(N,1)\n",
    "psi2 = fock(N,1)\n",
    "psi12 = tensor(psi1,psi2)\n",
    "\n",
    "a = destroy(N)\n",
    "\n",
    "psi1\n",
    "\n",
    "# 50:50 Beamsplitter unitary matrix\n",
    "# U = (1j*np.pi/4*(tensor(a,qeye(N))*a.dag()+a.dag()*a)"
   ]
  },
  {
   "cell_type": "code",
   "execution_count": 16,
   "metadata": {},
   "outputs": [
    {
     "data": {
      "text/latex": [
       "Quantum object: dims = [[2], [1]], shape = (2, 1), type = ket\\begin{equation*}\\left(\\begin{array}{*{11}c}0.707j\\\\0.707\\\\\\end{array}\\right)\\end{equation*}"
      ],
      "text/plain": [
       "Quantum object: dims = [[2], [1]], shape = (2, 1), type = ket\n",
       "Qobj data =\n",
       "[[0.        +0.70710678j]\n",
       " [0.70710678+0.j        ]]"
      ]
     },
     "execution_count": 16,
     "metadata": {},
     "output_type": "execute_result"
    }
   ],
   "source": [
    "bs*psi1"
   ]
  },
  {
   "cell_type": "code",
   "execution_count": 15,
   "metadata": {},
   "outputs": [
    {
     "data": {
      "text/latex": [
       "Quantum object: dims = [[2, 2], [2, 2]], shape = (4, 4), type = oper, isherm = False\\begin{equation*}\\left(\\begin{array}{*{11}c}0.500 & 0.500j & 0.500j & -0.500\\\\0.500j & 0.500 & -0.500 & 0.500j\\\\0.500j & -0.500 & 0.500 & 0.500j\\\\-0.500 & 0.500j & 0.500j & 0.500\\\\\\end{array}\\right)\\end{equation*}"
      ],
      "text/plain": [
       "Quantum object: dims = [[2, 2], [2, 2]], shape = (4, 4), type = oper, isherm = False\n",
       "Qobj data =\n",
       "[[ 0.5+0.j   0. +0.5j  0. +0.5j -0.5+0.j ]\n",
       " [ 0. +0.5j  0.5+0.j  -0.5+0.j   0. +0.5j]\n",
       " [ 0. +0.5j -0.5+0.j   0.5+0.j   0. +0.5j]\n",
       " [-0.5+0.j   0. +0.5j  0. +0.5j  0.5+0.j ]]"
      ]
     },
     "execution_count": 15,
     "metadata": {},
     "output_type": "execute_result"
    }
   ],
   "source": [
    "#Define the BS operator\n",
    "bs = (1/(2**0.5))*Qobj([[1,1j],[1j,1]])\n",
    "bs_f = tensor(bs,bs)\n",
    "\n",
    "bs_f"
   ]
  },
  {
   "cell_type": "code",
   "execution_count": 19,
   "metadata": {},
   "outputs": [
    {
     "data": {
      "image/png": "[encoded data removed]",
      "text/plain": [
       "<Figure size 864x216 with 4 Axes>"
      ]
     },
     "metadata": {
      "needs_background": "light"
     },
     "output_type": "display_data"
    }
   ],
   "source": [
    "# Plot the Wigner function for a fock vacuum state\n",
    "\n",
    "# Initialize the states\n",
    "N = 25 # Levels in the Hilbert space\n",
    "\n",
    "\n",
    "\n",
    "coherent_vac = bs_f*psi12\n",
    "n_3 = fock(N,3)\n",
    "coherent_n_3 = coherent(N,np.sqrt(3))\n",
    "\n",
    "# Initalize plot variables\n",
    "xvec = np.linspace(-5,5,200)\n",
    "yvec = xvec\n",
    "\n",
    "# Calculate the wigner function for the states\n",
    "W_coherent_vac = wigner(coherent_vac, xvec, yvec)\n",
    "W_n_3 = wigner(n_3, xvec, yvec)\n",
    "W_coherent_n_3 = wigner(coherent_n_3, xvec, yvec)\n",
    "\n",
    "# create a plot for 3 figures\n",
    "fig, axes = plt.subplots(1, 3, figsize=(12,3))\n",
    "\n",
    "# create contour plots using the results of the wigner func\n",
    "# The colour distribution varies from that in the lecture notes as it is not normalized to -1 to 1\n",
    "cont0 = axes[0].contourf(xvec, xvec, W_coherent_vac, 100, cmap = 'seismic')\n",
    "# cont1 = axes[1].contourf(xvec, xvec, W_n_3, 100, cmap = 'seismic')\n",
    "# cont2 = axes[2].contourf(xvec, xvec, W_coherent_n_3, 100, cmap = 'seismic')\n",
    "\n",
    "# add colorbar\n",
    "cb0 = fig.colorbar(cont0,ax = axes[0])\n",
    "# cb1 = fig.colorbar(cont1,ax = axes[1])\n",
    "# cb2 = fig.colorbar(cont2,ax = axes[2])\n",
    "\n",
    "# set the title for each plot\n",
    "lbl0 = axes[0].set_title(\"Coherent vacuum state\")\n",
    "# lbl1 = axes[1].set_title(\"3 Photon Fock State\")\n",
    "# lbl2 = axes[2].set_title(\"n average = 3 Coherent State\")"
   ]
  },
  {
   "cell_type": "code",
   "execution_count": 102,
   "metadata": {},
   "outputs": [
    {
     "data": {
      "image/png": "[encoded data removed]",
      "text/plain": [
       "<Figure size 864x216 with 4 Axes>"
      ]
     },
     "metadata": {
      "needs_background": "light"
     },
     "output_type": "display_data"
    }
   ],
   "source": [
    "# Initialize the states\n",
    "N = 10 # Levels in the Hilbert space\n",
    "\n",
    "a = destroy(N)\n",
    "\n",
    "psig = fock(N,0)\n",
    "\n",
    "psi1 = fock(N,1)\n",
    "psi2 = fock(N,1)\n",
    "psi12 = tensor (psi1,psi2,psig,psig)\n",
    "\n",
    "# psi12g = tensor(psig,psig,psig,psig)\n",
    "psi12g = tensor(psig,psig)\n",
    "                \n",
    "# c_1 = tensor(a.dag(),qeye(N),qeye(N),qeye(N))\n",
    "# c_2 = tensor(qeye(N),a.dag(),qeye(N),qeye(N))\n",
    "# c_3 = tensor(qeye(N),qeye(N),a.dag(),qeye(N))\n",
    "# c_4 = tensor(qeye(N),qeye(N),qeye(N),a.dag())\n",
    "\n",
    "c_3 = tensor(a.dag(),qeye(N))\n",
    "c_4 = tensor(qeye(N),a.dag())\n",
    "c_1 = (1/(2**0.5))*(c_3+c_4)\n",
    "c_2 = (1/(2**0.5))*(c_3-c_4)\n",
    "\n",
    "# psi12 == c_1*c_2*psi12g\n",
    "\n",
    "#### Qn1_1\n",
    "psi_1 = tensor(psig,psig)\n",
    "\n",
    "qn1_1 = (c_1*c_2*psi_1).ptrace(0)\n",
    "\n",
    "#### Qn1_2\n",
    "# psig = fock(N,0)\n",
    "# psi12g = tensor(psig,psig)\n",
    "# c_3 = tensor(a.dag(),qeye(N))\n",
    "# c_4 = tensor(qeye(N),a.dag())\n",
    "\n",
    "# qn1_1 = c_1*c_2*psi12g\n",
    "# qn1_1\n",
    "\n",
    "\n",
    "# Initalize plot variables\n",
    "xvec = np.linspace(-5,5,200)\n",
    "yvec = xvec\n",
    "\n",
    "# Calculate the wigner function for the states\n",
    "W_qn1_1 = wigner(qn1_1, xvec, yvec)\n",
    "# W_qn1_2 = wigner(qn1_2, xvec, yvec)\n",
    "# W_qn1_3 = wigner(qn1_3, xvec, yvec)\n",
    "# W_qn1_4 = wigner(qn1_4, xvec, yvec)\n",
    "\n",
    "# create a plot for 3 figures\n",
    "fig, axes = plt.subplots(1, 3, figsize=(12,3))\n",
    "\n",
    "# create contour plots using the results of the wigner func\n",
    "# The colour distribution varies from that in the lecture notes as it is not normalized to -1 to 1\n",
    "cont0 = axes[0].contourf(xvec, xvec, W_qn1_1, 100, cmap = 'seismic')\n",
    "# cont1 = axes[1].contourf(xvec, xvec, W_n_3, 100, cmap = 'seismic')\n",
    "# cont2 = axes[2].contourf(xvec, xvec, W_coherent_n_3, 100, cmap = 'seismic')\n",
    "\n",
    "# add colorbar\n",
    "cb0 = fig.colorbar(cont0,ax = axes[0])\n",
    "# cb1 = fig.colorbar(cont1,ax = axes[1])\n",
    "# cb2 = fig.colorbar(cont2,ax = axes[2])\n",
    "\n",
    "# set the title for each plot\n",
    "lbl0 = axes[0].set_title(\"Coherent vacuum state\")\n",
    "# lbl1 = axes[1].set_title(\"3 Photon Fock State\")\n",
    "# lbl2 = axes[2].set_title(\"n average = 3 Coherent State\")"
   ]
  },
  {
   "cell_type": "code",
   "execution_count": 101,
   "metadata": {},
   "outputs": [
    {
     "data": {
      "text/latex": [
       "Quantum object: dims = [[10], [10]], shape = (10, 10), type = oper, isherm = True\\begin{equation*}\\left(\\begin{array}{*{11}c}0.500 & 0.0 & 0.0 & 0.0 & 0.0 & 0.0 & 0.0 & 0.0 & 0.0 & 0.0\\\\0.0 & 0.0 & 0.0 & 0.0 & 0.0 & 0.0 & 0.0 & 0.0 & 0.0 & 0.0\\\\0.0 & 0.0 & 0.500 & 0.0 & 0.0 & 0.0 & 0.0 & 0.0 & 0.0 & 0.0\\\\0.0 & 0.0 & 0.0 & 0.0 & 0.0 & 0.0 & 0.0 & 0.0 & 0.0 & 0.0\\\\0.0 & 0.0 & 0.0 & 0.0 & 0.0 & 0.0 & 0.0 & 0.0 & 0.0 & 0.0\\\\0.0 & 0.0 & 0.0 & 0.0 & 0.0 & 0.0 & 0.0 & 0.0 & 0.0 & 0.0\\\\0.0 & 0.0 & 0.0 & 0.0 & 0.0 & 0.0 & 0.0 & 0.0 & 0.0 & 0.0\\\\0.0 & 0.0 & 0.0 & 0.0 & 0.0 & 0.0 & 0.0 & 0.0 & 0.0 & 0.0\\\\0.0 & 0.0 & 0.0 & 0.0 & 0.0 & 0.0 & 0.0 & 0.0 & 0.0 & 0.0\\\\0.0 & 0.0 & 0.0 & 0.0 & 0.0 & 0.0 & 0.0 & 0.0 & 0.0 & 0.0\\\\\\end{array}\\right)\\end{equation*}"
      ],
      "text/plain": [
       "Quantum object: dims = [[10], [10]], shape = (10, 10), type = oper, isherm = True\n",
       "Qobj data =\n",
       "[[0.5 0.  0.  0.  0.  0.  0.  0.  0.  0. ]\n",
       " [0.  0.  0.  0.  0.  0.  0.  0.  0.  0. ]\n",
       " [0.  0.  0.5 0.  0.  0.  0.  0.  0.  0. ]\n",
       " [0.  0.  0.  0.  0.  0.  0.  0.  0.  0. ]\n",
       " [0.  0.  0.  0.  0.  0.  0.  0.  0.  0. ]\n",
       " [0.  0.  0.  0.  0.  0.  0.  0.  0.  0. ]\n",
       " [0.  0.  0.  0.  0.  0.  0.  0.  0.  0. ]\n",
       " [0.  0.  0.  0.  0.  0.  0.  0.  0.  0. ]\n",
       " [0.  0.  0.  0.  0.  0.  0.  0.  0.  0. ]\n",
       " [0.  0.  0.  0.  0.  0.  0.  0.  0.  0. ]]"
      ]
     },
     "execution_count": 101,
     "metadata": {},
     "output_type": "execute_result"
    }
   ],
   "source": [
    "qn1_1.ptrace(0)"
   ]
  },
  {
   "cell_type": "code",
   "execution_count": 88,
   "metadata": {},
   "outputs": [
    {
     "data": {
      "image/png": "[encoded data removed]",
      "text/plain": [
       "<Figure size 864x216 with 6 Axes>"
      ]
     },
     "metadata": {
      "needs_background": "light"
     },
     "output_type": "display_data"
    }
   ],
   "source": [
    "# Initialize the states\n",
    "N = 10 # Levels in the Hilbert space\n",
    "\n",
    "a = destroy(N)\n",
    "\n",
    "psig = fock(N,0)\n",
    "\n",
    "alpha = 2**0.5\n",
    "coherent(N,alpha)\n",
    "\n",
    "psi = tensor(psig,psig)\n",
    "\n",
    "# c_3 = tensor(a.dag(),qeye(N))\n",
    "# c_4 = tensor(qeye(N),a.dag())\n",
    "c_3 = 0.5*(a.dag()**2)\n",
    "c_4 = 0.5*(-(a.dag()**2))\n",
    "c_1 = (1/(2**0.5))*(c_3+c_4)\n",
    "c_2 = (1/(2**0.5))*(c_3-c_4)\n",
    "\n",
    "qn1_1_3 = (c_3*psig).unit()\n",
    "qn1_1_4 = c_4*psig\n",
    "coherent_n_3 = coherent(N,np.sqrt(3))\n",
    "\n",
    "\n",
    "# Initalize plot variables\n",
    "xvec = np.linspace(-5,5,200)\n",
    "yvec = xvec\n",
    "\n",
    "# Calculate the wigner function for the states\n",
    "W_qn1_1 = wigner(qn1_1_3, xvec, yvec)\n",
    "W_qn1_2 = wigner(qn1_1_4, xvec, yvec)\n",
    "W_coherent_n_3 = wigner(coherent_n_3, xvec, yvec)\n",
    "\n",
    "\n",
    "# create a plot for 3 figures\n",
    "fig, axes = plt.subplots(1, 3, figsize=(12,3))\n",
    "\n",
    "# create contour plots using the results of the wigner func\n",
    "# The colour distribution varies from that in the lecture notes as it is not normalized to -1 to 1\n",
    "cont0 = axes[0].contourf(xvec, xvec, W_qn1_1, 100, cmap = 'seismic')\n",
    "cont1 = axes[1].contourf(xvec, xvec, W_qn1_2, 100, cmap = 'seismic')\n",
    "cont2 = axes[2].contourf(xvec, xvec, W_coherent_n_3, 100, cmap = 'seismic')\n",
    "\n",
    "# add colorbar\n",
    "cb0 = fig.colorbar(cont0,ax = axes[0])\n",
    "cb1 = fig.colorbar(cont1,ax = axes[1])\n",
    "cb2 = fig.colorbar(cont2,ax = axes[2])\n",
    "\n",
    "# set the title for each plot\n",
    "lbl0 = axes[0].set_title(\"Coherent vacuum state\")\n",
    "lbl1 = axes[1].set_title(\"3 Photon Fock State\")\n",
    "lbl2 = axes[2].set_title(\"n average = 3 Coherent State\")"
   ]
  },
  {
   "cell_type": "code",
   "execution_count": 341,
   "metadata": {},
   "outputs": [
    {
     "data": {
      "text/latex": [
       "Quantum object: dims = [[2], [1]], shape = (2, 1), type = ket\\begin{equation*}\\left(\\begin{array}{*{11}c}-0.482\\\\(-0.876+0.021j)\\\\\\end{array}\\right)\\end{equation*}"
      ],
      "text/plain": [
       "Quantum object: dims = [[2], [1]], shape = (2, 1), type = ket\n",
       "Qobj data =\n",
       "[[-0.48153315+0.j        ]\n",
       " [-0.87616856+0.02131876j]]"
      ]
     },
     "execution_count": 341,
     "metadata": {},
     "output_type": "execute_result"
    }
   ],
   "source": [
    "from sympy import var\n",
    "from sympy import symbols\n",
    "\n",
    "N = 5\n",
    "\n",
    "#cavity mode |0>\n",
    "cav = fock(N,0)\n",
    "\n",
    "#two level system (TLS), set ground state as |0>\n",
    "g = fock(2,0)\n",
    "cav_g = tensor(cav,g)\n",
    "\n",
    "#applying operator to bring TLS g to equal superposition of g+e\n",
    "H = hadamard_transform(1) # we will talk about this\n",
    "HI = tensor(qeye(N),H)\n",
    "cav_ge = HI*cav_g\n",
    "\n",
    "#applying displacement operator with alpha = 2\n",
    "a = destroy(2)\n",
    "alpha = 2\n",
    "disp = ((alpha*a.dag()-alpha*a)).expm()\n",
    "disp_1 = tensor(qeye(N),disp)\n",
    "\n",
    "\n",
    "disp_cavge = disp_1*cav_ge\n",
    "\n",
    "#evolving the system with Hamiltonian H for time T = pi/chi12\n",
    "# w1, w2, chi12 = symbols(\"w1 w2 chi12\")\n",
    "# var(\"w1 w2 chi12\")\n",
    "w1 = 1 # cavity frequency= w1\n",
    "w2 = 1 # TLS frenqency= w2\n",
    "chi12 = 100 # coupling strength= chi12\n",
    "\n",
    "e = tensor(qeye(N),fock(2,1))\n",
    "# e = fock(2,1)\n",
    "\n",
    "# cavity mode operator\n",
    "ac = tensor(destroy(N), qeye(2))\n",
    "# ac = a\n",
    "\n",
    "# required qubit/atom operators \n",
    "\n",
    "# Hamiltonian\n",
    "H = w1*ac.dag()*ac + w2*e*e.dag() - chi12*ac.dag()*ac*e*e.dag()\n",
    "\n",
    "psi = disp_cavge\n",
    "\n",
    "# list of times for which the solver should store the state vector\n",
    "tlist = np.linspace(0, np.pi/chi12, 100)\n",
    "\n",
    "final = mesolve(H, psi, tlist, [], [])\n",
    "# final.states[-1]\n",
    "\n",
    "#applying displacement operator with alpha = 2\n",
    "disp_2 = tensor(qeye(N),disp)\n",
    "disp_2nd = disp_2*final.states[-1]\n",
    "\n",
    "#show that the cavity mode is still in vacuum\n",
    "# print('Cavity mode in vacuum state? = {}'.format(disp_2nd.ptrace(0) == cav*cav.dag()))  #because ptrace gives the density matrix of the cavity mode\n",
    "\n",
    "#hence apply a pi rotation on TLS\n",
    "rot = sigmax()\n",
    "# disp_2nd.ptrace(1).eigenstates(sort='high')[0][0]   #to confirm the eigenvalue\n",
    "tlstate = disp_2nd.ptrace(1).eigenstates(sort='high')[1][0]\n",
    "rot_tls = rot*tlstate\n",
    "cav_rot_tls = tensor(cav,rot_tls)\n",
    "\n",
    "#applying displacement operator with alpha = -2\n",
    "disp_negb = disp.dag() #because D(-alpha) = D(alpha).dag()\n",
    "disp_f = tensor(qeye(N),disp_negb)\n",
    "disp_final = disp_f*cav_rot_tls\n",
    "\n",
    "#check the final vacuum state\n",
    "disp_final.ptrace(1).eigenstates(sort='high')[1][0]"
   ]
  },
  {
   "cell_type": "code",
   "execution_count": null,
   "metadata": {},
   "outputs": [],
   "source": []
  }
 ],
 "metadata": {
  "kernelspec": {
   "display_name": "Python 3",
   "language": "python",
   "name": "python3"
  },
  "language_info": {
   "codemirror_mode": {
    "name": "ipython",
    "version": 3
   },
   "file_extension": ".py",
   "mimetype": "text/x-python",
   "name": "python",
   "nbconvert_exporter": "python",
   "pygments_lexer": "ipython3",
   "version": "3.7.6"
  }
 },
 "nbformat": 4,
 "nbformat_minor": 4
}
